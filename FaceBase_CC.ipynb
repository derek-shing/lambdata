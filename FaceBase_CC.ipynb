{
  "nbformat": 4,
  "nbformat_minor": 0,
  "metadata": {
    "colab": {
      "name": "FaceBase_CC.ipynb",
      "version": "0.3.2",
      "provenance": [],
      "collapsed_sections": [],
      "include_colab_link": true
    },
    "kernelspec": {
      "name": "python3",
      "display_name": "Python 3"
    },
    "accelerator": "TPU"
  },
  "cells": [
    {
      "cell_type": "markdown",
      "metadata": {
        "id": "view-in-github",
        "colab_type": "text"
      },
      "source": [
        "<a href=\"https://colab.research.google.com/github/derek-shing/lambdata/blob/master/FaceBase_CC.ipynb\" target=\"_parent\"><img src=\"https://colab.research.google.com/assets/colab-badge.svg\" alt=\"Open In Colab\"/></a>"
      ]
    },
    {
      "metadata": {
        "id": "4txLzKTsHr5r",
        "colab_type": "text"
      },
      "cell_type": "markdown",
      "source": [
        "# What's my (your) face saying II?\n",
        "\n",
        "1. Make a copy\n",
        "\n",
        "2. You should already have an API key but if not you can sign up here: [Sign-up for the Parallel Dots API here](https://www.paralleldots.com/)\n",
        "\n",
        "_you will have to verify your email *before* using the api_\n",
        "\n",
        "\n",
        "3. Take a pictures of yourself with different facial expressions. Use these expressions to create a labeled dataset.\n",
        "\n",
        "4. How accurate is the Parellel Dots API at classifiying your facial expressions?\n",
        "\n",
        "5. How can you show the level of accuracy?"
      ]
    },
    {
      "metadata": {
        "id": "3iLHivSvKNuw",
        "colab_type": "text"
      },
      "cell_type": "markdown",
      "source": [
        ""
      ]
    },
    {
      "metadata": {
        "id": "LRUPphnAGMjF",
        "colab_type": "code",
        "outputId": "78335893-3fb4-4b5c-bb3f-9dc960485bb9",
        "colab": {
          "base_uri": "https://localhost:8080/",
          "height": 193
        }
      },
      "cell_type": "code",
      "source": [
        "!pip install paralleldots"
      ],
      "execution_count": 0,
      "outputs": [
        {
          "output_type": "stream",
          "text": [
            "Collecting paralleldots\n",
            "  Downloading https://files.pythonhosted.org/packages/31/ed/3186f11dd635240c5d1bfe603a1af70f0a037ea745c53f246f20b05c65ec/ParallelDots-3.2.12-py3-none-any.whl\n",
            "Requirement already satisfied: requests in /usr/local/lib/python3.6/dist-packages (from paralleldots) (2.18.4)\n",
            "Requirement already satisfied: certifi>=2017.4.17 in /usr/local/lib/python3.6/dist-packages (from requests->paralleldots) (2019.3.9)\n",
            "Requirement already satisfied: urllib3<1.23,>=1.21.1 in /usr/local/lib/python3.6/dist-packages (from requests->paralleldots) (1.22)\n",
            "Requirement already satisfied: idna<2.7,>=2.5 in /usr/local/lib/python3.6/dist-packages (from requests->paralleldots) (2.6)\n",
            "Requirement already satisfied: chardet<3.1.0,>=3.0.2 in /usr/local/lib/python3.6/dist-packages (from requests->paralleldots) (3.0.4)\n",
            "Installing collected packages: paralleldots\n",
            "Successfully installed paralleldots-3.2.12\n"
          ],
          "name": "stdout"
        }
      ]
    },
    {
      "metadata": {
        "id": "Ps2F-JnE7R7W",
        "colab_type": "code",
        "colab": {}
      },
      "cell_type": "code",
      "source": [
        "from IPython.display import HTML, Image, Javascript\n",
        "from google.colab.output import eval_js\n",
        "from base64 import b64decode\n",
        "\n",
        "\n",
        "\n",
        "def take_photo(filename='photo.jpg', quality=0.8):\n",
        "  display(VIDEO_JS)\n",
        "  data = eval_js('takePhoto({})'.format(quality))\n",
        "  binary = b64decode(data.split(',')[1])\n",
        "  with open(filename, 'wb') as f:\n",
        "    f.write(binary)\n",
        "  return filename"
      ],
      "execution_count": 0,
      "outputs": []
    },
    {
      "metadata": {
        "id": "KPGU30XcGdGX",
        "colab_type": "code",
        "colab": {}
      },
      "cell_type": "code",
      "source": [
        "import paralleldots\n",
        "paralleldots.set_api_key(\"YOUR API KEY HERE\")\n"
      ],
      "execution_count": 0,
      "outputs": []
    },
    {
      "metadata": {
        "id": "zTpDXMk5FhuR",
        "colab_type": "code",
        "outputId": "795db487-af7e-41d8-ac39-3d6931f18cfc",
        "colab": {
          "base_uri": "https://localhost:8080/",
          "height": 868
        }
      },
      "cell_type": "code",
      "source": [
        "dir(paralleldots)"
      ],
      "execution_count": 0,
      "outputs": [
        {
          "output_type": "execute_result",
          "data": {
            "text/plain": [
              "['__all__',\n",
              " '__builtins__',\n",
              " '__cached__',\n",
              " '__doc__',\n",
              " '__file__',\n",
              " '__loader__',\n",
              " '__name__',\n",
              " '__package__',\n",
              " '__path__',\n",
              " '__spec__',\n",
              " 'abuse',\n",
              " 'batch_abuse',\n",
              " 'batch_emotion',\n",
              " 'batch_intent',\n",
              " 'batch_keywords',\n",
              " 'batch_language_detection',\n",
              " 'batch_ner',\n",
              " 'batch_phrase_extractor',\n",
              " 'batch_sarcasm',\n",
              " 'batch_sentiment',\n",
              " 'batch_target_sentiment',\n",
              " 'batch_taxonomy',\n",
              " 'config',\n",
              " 'custom_classifier',\n",
              " 'emotion',\n",
              " 'facial_emotion',\n",
              " 'facial_emotion_url',\n",
              " 'get_api_key',\n",
              " 'intent',\n",
              " 'keywords',\n",
              " 'language_detection',\n",
              " 'multilang_keywords',\n",
              " 'ner',\n",
              " 'nsfw',\n",
              " 'nsfw_url',\n",
              " 'object_recognizer',\n",
              " 'object_recognizer_url',\n",
              " 'paralleldots_apis',\n",
              " 'phrase_extractor',\n",
              " 'popularity',\n",
              " 'popularity_url',\n",
              " 'sarcasm',\n",
              " 'sentiment',\n",
              " 'set_api_key',\n",
              " 'similarity',\n",
              " 'target_sentiment',\n",
              " 'taxonomy',\n",
              " 'text_parser',\n",
              " 'usage']"
            ]
          },
          "metadata": {
            "tags": []
          },
          "execution_count": 5
        }
      ]
    },
    {
      "metadata": {
        "id": "QCsEjZM56O9k",
        "colab_type": "code",
        "colab": {}
      },
      "cell_type": "code",
      "source": [
        "VIDEO_JS = Javascript('''\n",
        "async function takePhoto(quality) {\n",
        "  const div = document.createElement('div');\n",
        "  const capture = document.createElement('button');\n",
        "  capture.textContent = 'Capture';\n",
        "  div.appendChild(capture);\n",
        "\n",
        "  const video = document.createElement('video');\n",
        "  video.style.display = 'block';\n",
        "  const stream = await navigator.mediaDevices.getUserMedia({video: true});\n",
        "  \n",
        "  document.body.appendChild(div);\n",
        "  div.appendChild(video);\n",
        "  video.srcObject = stream;\n",
        "  await video.play();\n",
        "\n",
        "  // Resize the output to fit the video element.\n",
        "  google.colab.output.setIframeHeight(document.documentElement.scrollHeight, true);\n",
        "\n",
        "  // Wait for Capture to be clicked.\n",
        "  await new Promise((resolve) => capture.onclick = resolve);\n",
        "\n",
        "  const canvas = document.createElement('canvas');\n",
        "  canvas.width = video.videoWidth;\n",
        "  canvas.height = video.videoHeight;\n",
        "  canvas.getContext('2d').drawImage(video, 0, 0);\n",
        "  stream.getVideoTracks()[0].stop();\n",
        "  div.remove();\n",
        "  return canvas.toDataURL('image/jpeg', quality);\n",
        "}\n",
        "''')"
      ],
      "execution_count": 0,
      "outputs": []
    },
    {
      "metadata": {
        "id": "8lue9NIaFfzz",
        "colab_type": "code",
        "outputId": "0decbe23-eee3-42e4-954e-8b56b2b30938",
        "colab": {
          "base_uri": "https://localhost:8080/",
          "height": 34
        }
      },
      "cell_type": "code",
      "source": [
        "# This is where you take the picture.\n",
        "# 1. you will be asked for permission to access to the webcam. This worked\n",
        "#    better when I did *not* have the webcam remember my choice.\n",
        "# 2. Press the capture button to take the photo.jpg\n",
        "\n",
        "try:\n",
        "  filename = take_photo()\n",
        "  print('Saved to {}'.format(filename))\n",
        "except Exception as err:\n",
        "  print(str(err))"
      ],
      "execution_count": 0,
      "outputs": [
        {
          "output_type": "display_data",
          "data": {
            "application/javascript": [
              "\n",
              "async function takePhoto(quality) {\n",
              "  const div = document.createElement('div');\n",
              "  const capture = document.createElement('button');\n",
              "  capture.textContent = 'Capture';\n",
              "  div.appendChild(capture);\n",
              "\n",
              "  const video = document.createElement('video');\n",
              "  video.style.display = 'block';\n",
              "  const stream = await navigator.mediaDevices.getUserMedia({video: true});\n",
              "  \n",
              "  document.body.appendChild(div);\n",
              "  div.appendChild(video);\n",
              "  video.srcObject = stream;\n",
              "  await video.play();\n",
              "\n",
              "  // Resize the output to fit the video element.\n",
              "  google.colab.output.setIframeHeight(document.documentElement.scrollHeight, true);\n",
              "\n",
              "  // Wait for Capture to be clicked.\n",
              "  await new Promise((resolve) => capture.onclick = resolve);\n",
              "\n",
              "  const canvas = document.createElement('canvas');\n",
              "  canvas.width = video.videoWidth;\n",
              "  canvas.height = video.videoHeight;\n",
              "  canvas.getContext('2d').drawImage(video, 0, 0);\n",
              "  stream.getVideoTracks()[0].stop();\n",
              "  div.remove();\n",
              "  return canvas.toDataURL('image/jpeg', quality);\n",
              "}\n"
            ],
            "text/plain": [
              "<IPython.core.display.Javascript object>"
            ]
          },
          "metadata": {
            "tags": []
          }
        },
        {
          "output_type": "stream",
          "text": [
            "Saved to photo.jpg\n"
          ],
          "name": "stdout"
        }
      ]
    },
    {
      "metadata": {
        "id": "05Zooqai520q",
        "colab_type": "code",
        "outputId": "fffb494e-0196-4ead-b55e-3b30bfb93ab2",
        "colab": {
          "base_uri": "https://localhost:8080/",
          "height": 497
        }
      },
      "cell_type": "code",
      "source": [
        "from IPython.display import Image\n",
        "Image(filename='photo.jpg') "
      ],
      "execution_count": 0,
      "outputs": [
        {
          "output_type": "execute_result",
          "data": {
            "image/jpeg": "[encoded data removed]",
            "text/plain": [
              "<IPython.core.display.Image object>"
            ]
          },
          "metadata": {
            "tags": []
          },
          "execution_count": 22
        }
      ]
    },
    {
      "metadata": {
        "id": "cVKDKUea6aU_",
        "colab_type": "code",
        "colab": {}
      },
      "cell_type": "code",
      "source": [
        "### You can also try uploading a pic from your computer\n",
        "\n",
        "#from google.colab import files\n",
        "#files.upload()"
      ],
      "execution_count": 0,
      "outputs": []
    },
    {
      "metadata": {
        "id": "d2f-vuddKv6o",
        "colab_type": "text"
      },
      "cell_type": "markdown",
      "source": [
        ""
      ]
    },
    {
      "metadata": {
        "id": "0meuPURfKzCA",
        "colab_type": "code",
        "outputId": "d35f8192-5f89-4745-dd52-2833d9009f00",
        "colab": {
          "base_uri": "https://localhost:8080/",
          "height": 52
        }
      },
      "cell_type": "code",
      "source": [
        "!ls   # what\n",
        "!pwd  # where\n"
      ],
      "execution_count": 0,
      "outputs": [
        {
          "output_type": "stream",
          "text": [
            "photo.jpg  sample_data\tsettings.cfg\n",
            "/content\n"
          ],
          "name": "stdout"
        }
      ]
    },
    {
      "metadata": {
        "id": "eqmG9GwNHBeo",
        "colab_type": "code",
        "colab": {}
      },
      "cell_type": "code",
      "source": [
        "CONTENT_IMAGE = \"photo.jpg\""
      ],
      "execution_count": 0,
      "outputs": []
    },
    {
      "metadata": {
        "id": "GtXuTaQKHIWB",
        "colab_type": "code",
        "colab": {}
      },
      "cell_type": "code",
      "source": [
        "path= \"/content/\"+CONTENT_IMAGE"
      ],
      "execution_count": 0,
      "outputs": []
    },
    {
      "metadata": {
        "id": "Gg8AYYFCJEZ-",
        "colab_type": "code",
        "outputId": "41999f5d-89b5-49c7-b3a2-8c9049148077",
        "colab": {
          "base_uri": "https://localhost:8080/",
          "height": 34
        }
      },
      "cell_type": "code",
      "source": [
        "print( paralleldots.facial_emotion( path ) ) # all I get is {'output': 'No face detected.'}"
      ],
      "execution_count": 0,
      "outputs": [
        {
          "output_type": "stream",
          "text": [
            "{'output': 'No face detected.'}\n"
          ],
          "name": "stdout"
        }
      ]
    },
    {
      "metadata": {
        "id": "nJBWEwh9LM99",
        "colab_type": "code",
        "colab": {}
      },
      "cell_type": "code",
      "source": [
        "result = paralleldots.facial_emotion( path )"
      ],
      "execution_count": 0,
      "outputs": []
    },
    {
      "metadata": {
        "id": "2Z-rD7W0JEXf",
        "colab_type": "code",
        "outputId": "39678918-0947-4315-ddb3-e275ba0a1b3e",
        "colab": {
          "base_uri": "https://localhost:8080/",
          "height": 165
        }
      },
      "cell_type": "code",
      "source": [
        "mood = result['facial_emotion'][0]['tag']\n"
      ],
      "execution_count": 0,
      "outputs": [
        {
          "output_type": "error",
          "ename": "KeyError",
          "evalue": "ignored",
          "traceback": [
            "\u001b[0;31m---------------------------------------------------------------------------\u001b[0m",
            "\u001b[0;31mKeyError\u001b[0m                                  Traceback (most recent call last)",
            "\u001b[0;32m<ipython-input-28-91b5c5120a34>\u001b[0m in \u001b[0;36m<module>\u001b[0;34m()\u001b[0m\n\u001b[0;32m----> 1\u001b[0;31m \u001b[0mmood\u001b[0m \u001b[0;34m=\u001b[0m \u001b[0mresult\u001b[0m\u001b[0;34m[\u001b[0m\u001b[0;34m'facial_emotion'\u001b[0m\u001b[0;34m]\u001b[0m\u001b[0;34m[\u001b[0m\u001b[0;36m0\u001b[0m\u001b[0;34m]\u001b[0m\u001b[0;34m[\u001b[0m\u001b[0;34m'tag'\u001b[0m\u001b[0;34m]\u001b[0m\u001b[0;34m\u001b[0m\u001b[0;34m\u001b[0m\u001b[0m\n\u001b[0m",
            "\u001b[0;31mKeyError\u001b[0m: 'facial_emotion'"
          ]
        }
      ]
    },
    {
      "metadata": {
        "id": "7PugvZEDJEUr",
        "colab_type": "code",
        "colab": {}
      },
      "cell_type": "code",
      "source": [
        "print(mood)\n",
        "\n"
      ],
      "execution_count": 0,
      "outputs": []
    },
    {
      "metadata": {
        "id": "jewduolVJESA",
        "colab_type": "code",
        "colab": {}
      },
      "cell_type": "code",
      "source": [
        ""
      ],
      "execution_count": 0,
      "outputs": []
    },
    {
      "metadata": {
        "id": "uqsttdg2JEPI",
        "colab_type": "code",
        "colab": {}
      },
      "cell_type": "code",
      "source": [
        ""
      ],
      "execution_count": 0,
      "outputs": []
    },
    {
      "metadata": {
        "id": "8c_hD966JEMP",
        "colab_type": "code",
        "colab": {}
      },
      "cell_type": "code",
      "source": [
        ""
      ],
      "execution_count": 0,
      "outputs": []
    },
    {
      "metadata": {
        "id": "Ho1EpH7IJEIR",
        "colab_type": "code",
        "colab": {}
      },
      "cell_type": "code",
      "source": [
        ""
      ],
      "execution_count": 0,
      "outputs": []
    },
    {
      "metadata": {
        "id": "Wa6Z0BPXJECA",
        "colab_type": "code",
        "colab": {}
      },
      "cell_type": "code",
      "source": [
        ""
      ],
      "execution_count": 0,
      "outputs": []
    },
    {
      "metadata": {
        "id": "B3DxDqM-JDwZ",
        "colab_type": "code",
        "colab": {}
      },
      "cell_type": "code",
      "source": [
        ""
      ],
      "execution_count": 0,
      "outputs": []
    }
  ]
}